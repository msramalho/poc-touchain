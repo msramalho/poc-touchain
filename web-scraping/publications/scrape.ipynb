{
 "cells": [
  {
   "cell_type": "code",
   "execution_count": 1,
   "metadata": {},
   "outputs": [],
   "source": [
    "import html\n",
    "from lxml import etree\n",
    "import lxml.html\n",
    "import re\n",
    "from slugify import slugify"
   ]
  },
  {
   "cell_type": "code",
   "execution_count": 2,
   "metadata": {},
   "outputs": [],
   "source": [
    "FILE = 'publications-2021-website.html'\n",
    "DOWNLOAD_PREFIX = 'https://op.europa.eu'"
   ]
  },
  {
   "cell_type": "code",
   "execution_count": 3,
   "metadata": {},
   "outputs": [],
   "source": [
    "with open(FILE, encoding=\"utf-8\") as inf:\n",
    "    doc = lxml.html.fromstring(inf.read())"
   ]
  },
  {
   "cell_type": "code",
   "execution_count": 4,
   "metadata": {},
   "outputs": [
    {
     "data": {
      "text/plain": [
       "[<Element head at 0x7f9294f992f0>, <Element body at 0x7f9294f991d0>]"
      ]
     },
     "execution_count": 4,
     "metadata": {},
     "output_type": "execute_result"
    }
   ],
   "source": [
    "doc[0:100]"
   ]
  },
  {
   "cell_type": "code",
   "execution_count": 5,
   "metadata": {},
   "outputs": [],
   "source": [
    "results = doc.cssselect(\"ul.search-results-items > li.list-item\")"
   ]
  },
  {
   "cell_type": "code",
   "execution_count": 6,
   "metadata": {},
   "outputs": [
    {
     "data": {
      "text/plain": [
       "48"
      ]
     },
     "execution_count": 6,
     "metadata": {},
     "output_type": "execute_result"
    }
   ],
   "source": [
    "len(results)"
   ]
  },
  {
   "cell_type": "code",
   "execution_count": 7,
   "metadata": {},
   "outputs": [
    {
     "data": {
      "text/plain": [
       "[['REGULATION OF THE EUROPEAN PARLIAMENT AND OF THE COUNCIL ESTABLISHING THE CUSTOMS PROGRAMME FOR COOPERATION IN THE FIELD OF CUSTOMS AND REPEALING REGULATION (EU) No 1294/2013'],\n",
       " ['Council of the European Union', 'European Parliament'],\n",
       " ['2021-03-11'],\n",
       " 'https://op.europa.eu/o/opportal-service/download-handler?identifier=20ef3c20-834a-11eb-af5d-01aa75ed71a1&format=PDF&language=en&productionSystem=cellar&documentIdentifier=20ef3c20-834a-11eb-af5d-01aa75ed71a1.0006',\n",
       " ['council-of-the-european-union', 'european-parliament']]"
      ]
     },
     "execution_count": 7,
     "metadata": {},
     "output_type": "execute_result"
    }
   ],
   "source": [
    "publications = []\n",
    "for li in results:\n",
    "    name = li.xpath('./h2//a/span[@itemprop=\"name\"]/text()')\n",
    "    authors = list(filter(lambda x: len(x) > 0, li.xpath(\".//span[@itemprop='author']/a/text()\")))\n",
    "    slugified_authors = list(map(lambda x: slugify(x), authors))\n",
    "    date = li.xpath(\".//li/time[@itemprop='datePublished']/@datetime\")\n",
    "    download_elems = li.xpath('.//a[@class=\"download\"]/@data-uri')\n",
    "    \n",
    "    if len(download_elems):\n",
    "        download = DOWNLOAD_PREFIX + li.xpath('.//a[@class=\"download\"]/@data-uri')[0]\n",
    "    else:\n",
    "        download = 'NO_DOWNLOAD'\n",
    "    \n",
    "    p = [name, authors, date, download, slugified_authors]\n",
    "    publications.append(p)\n",
    "\n",
    "publications[0]"
   ]
  },
  {
   "cell_type": "code",
   "execution_count": null,
   "metadata": {},
   "outputs": [],
   "source": [
    "import json\n",
    "publications_json = []"
   ]
  },
  {
   "cell_type": "code",
   "execution_count": 10,
   "metadata": {},
   "outputs": [
    {
     "name": "stdout",
     "output_type": "stream",
     "text": [
      "[[], ['European Parliament'], ['2021-02-12'], 'https://op.europa.eu/o/opportal-service/download-handler?identifier=f9ed916d-7007-11eb-9ac9-01aa75ed71a1&format=PDF&language=en&productionSystem=cellar&documentIdentifier=f9ed916d-7007-11eb-9ac9-01aa75ed71a1.0001', ['european-parliament']]\n"
     ]
    },
    {
     "data": {
      "text/plain": [
       "[{'name': 'REGULATION OF THE EUROPEAN PARLIAMENT AND OF THE COUNCIL ESTABLISHING THE CUSTOMS PROGRAMME FOR COOPERATION IN THE FIELD OF CUSTOMS AND REPEALING REGULATION (EU) No 1294/2013',\n",
       "  'authors': ['Council of the European Union', 'European Parliament'],\n",
       "  'date': '2021-03-11',\n",
       "  'download': 'https://op.europa.eu/o/opportal-service/download-handler?identifier=20ef3c20-834a-11eb-af5d-01aa75ed71a1&format=PDF&language=en&productionSystem=cellar&documentIdentifier=20ef3c20-834a-11eb-af5d-01aa75ed71a1.0006'},\n",
       " {'name': 'Corrigendum to Recruitment notice PE/255/S – English-language clear language professional (AD 7) (female or male) (Official Journal of the European Union C 74 A of 3\\xa0March 2021) 2021/C 76 I/24',\n",
       "  'authors': ['European Parliament'],\n",
       "  'date': '2021-03-05',\n",
       "  'download': 'https://op.europa.eu/o/opportal-service/download-handler?identifier=7cde00a7-7d58-11eb-9ac9-01aa75ed71a1&format=PDF&language=en&productionSystem=cellar&documentIdentifier=7cde00a7-7d58-11eb-9ac9-01aa75ed71a1.0006'},\n",
       " {'name': 'Recruitment Notice PE/255/S – English-language clear language professional (AD 7) (female or male)',\n",
       "  'authors': ['European Parliament'],\n",
       "  'date': '2021-03-03',\n",
       "  'download': 'https://op.europa.eu/o/opportal-service/download-handler?identifier=efa83712-7bc3-11eb-9ac9-01aa75ed71a1&format=PDF&language=en&productionSystem=cellar&documentIdentifier=efa83712-7bc3-11eb-9ac9-01aa75ed71a1.0006'},\n",
       " {'name': 'Corrigendum to Regulation (EU) 2019/876 of the European Parliament and of the Council of 20 May 2019 amending Regulation (EU) No 575/2013 as regards the leverage ratio, the net stable funding ratio, requirements for own funds and eligible liabilities, counterparty credit risk, market risk, exposures to central counterparties, exposures to collective investment undertakings, large exposures, reporting and disclosure requirements, and Regulation (EU) No 648/2012 (Official Journal of the European Union L 150 of 7 June 2019)',\n",
       "  'authors': ['Council of the European Union', 'European Parliament'],\n",
       "  'date': '2021-02-25',\n",
       "  'download': 'https://op.europa.eu/o/opportal-service/download-handler?identifier=212444b7-773c-11eb-9ac9-01aa75ed71a1&format=PDF&language=en&productionSystem=cellar&documentIdentifier=212444b7-773c-11eb-9ac9-01aa75ed71a1.0006'},\n",
       " {'name': 'Joint Declaration by the European Parliament, Council and Commission on the establishment of reporting requirements to enable the issuance of bonds contributing to environmental objectives for NextGenerationEU 2021/C 58 I/01',\n",
       "  'authors': ['Council of the European Union',\n",
       "   'European Commission',\n",
       "   'European Parliament'],\n",
       "  'date': '2021-02-18',\n",
       "  'download': 'https://op.europa.eu/o/opportal-service/download-handler?identifier=f1fcbccf-718a-11eb-9ac9-01aa75ed71a1&format=PDF&language=en&productionSystem=cellar&documentIdentifier=f1fcbccf-718a-11eb-9ac9-01aa75ed71a1.0006'},\n",
       " {'name': 'Directive (EU) 2021/338 of the European Parliament and of the Council of 16\\xa0February 2021 amending Directive 2014/65/EU as regards information requirements, product governance and position limits, and Directives 2013/36/EU and (EU) 2019/878 as regards their application to investment firms, to help the recovery from the COVID-19 crisis (Text with EEA relevance)',\n",
       "  'authors': ['Council of the European Union', 'European Parliament'],\n",
       "  'date': '2021-02-16',\n",
       "  'download': 'https://op.europa.eu/o/opportal-service/download-handler?identifier=efdc0d7c-77d4-11eb-9ac9-01aa75ed71a1&format=PDF&language=en&productionSystem=cellar&documentIdentifier=efdc0d7c-77d4-11eb-9ac9-01aa75ed71a1.0006'},\n",
       " {'name': 'REGULATION OF THE EUROPEAN PARLIAMENT AND OF THE COUNCIL LAYING DOWN SPECIFIC AND TEMPORARY MEASURES IN VIEW OF THE PERSISTENCE OF THE COVID-19 CRISIS CONCERNING THE RENEWAL OR EXTENSION OF CERTAIN CERTIFICATES, LICENCES AND AUTHORISATIONS, THE POSTPONEMENT OF CERTAIN PERIODIC CHECKS AND PERIODIC TRAINING IN CERTAIN AREAS OF TRANSPORT LEGISLATION AND THE EXTENSION OF CERTAIN PERIODS REFERRED TO IN REGULATION (EU) 2020/698',\n",
       "  'authors': ['Council of the European Union', 'European Parliament'],\n",
       "  'date': '2021-02-16',\n",
       "  'download': 'https://op.europa.eu/o/opportal-service/download-handler?identifier=eeb7cbae-7110-11eb-9ac9-01aa75ed71a1&format=PDF&language=en&productionSystem=cellar&documentIdentifier=eeb7cbae-7110-11eb-9ac9-01aa75ed71a1.0007'},\n",
       " {'name': 'Regulation (EU) 2021/337 of the European Parliament and of the Council of 16\\xa0February 2021 amending Regulation (EU) 2017/1129 as regards the EU Recovery prospectus and targeted adjustments for financial intermediaries and Directive 2004/109/EC as regards the use of the single electronic reporting format for annual financial reports, to support the recovery from the COVID-19 crisis (Text with EEA relevance)',\n",
       "  'authors': ['Council of the European Union', 'European Parliament'],\n",
       "  'date': '2021-02-16',\n",
       "  'download': 'https://op.europa.eu/o/opportal-service/download-handler?identifier=b077b858-77d4-11eb-9ac9-01aa75ed71a1&format=PDF&language=en&productionSystem=cellar&documentIdentifier=b077b858-77d4-11eb-9ac9-01aa75ed71a1.0006'},\n",
       " {'name': 'REGULATION OF THE EUROPEAN PARLIAMENT AND OF THE COUNCIL AMENDING REGULATION (EU) 2017/1129 AS REGARDS THE EU RECOVERY PROSPECTUS AND TARGETED ADJUSTMENTS FOR FINANCIAL INTERMEDIARIES AND DIRECTIVE 2004/109/EC AS REGARDS THE USE OF THE SINGLE ELECTRONIC REPORTING FORMAT FOR ANNUAL FINANCIAL REPORTS, TO SUPPORT THE RECOVERY FROM THE COVID-19 CRISIS',\n",
       "  'authors': ['Council of the European Union', 'European Parliament'],\n",
       "  'date': '2021-02-16',\n",
       "  'download': 'https://op.europa.eu/o/opportal-service/download-handler?identifier=8d5aa188-7055-11eb-9ac9-01aa75ed71a1&format=PDF&language=en&productionSystem=cellar&documentIdentifier=8d5aa188-7055-11eb-9ac9-01aa75ed71a1.0006'},\n",
       " {'name': 'Regulation (EU) 2021/250 of the European Parliament and of the Council of 16 February 2021 amending Council Regulation (EEC) No 95/93 as regards temporary relief from the slot utilisation rules at Union airports due to the COVID-19 crisis (Text with EEA relevance)',\n",
       "  'authors': ['Council of the European Union', 'European Parliament'],\n",
       "  'date': '2021-02-16',\n",
       "  'download': 'https://op.europa.eu/o/opportal-service/download-handler?identifier=71d2bcee-726d-11eb-9ac9-01aa75ed71a1&format=PDF&language=en&productionSystem=cellar&documentIdentifier=71d2bcee-726d-11eb-9ac9-01aa75ed71a1.0006'},\n",
       " {'name': 'Regulation (EU) 2021/267 of the European Parliament and of the Council of 16\\xa0February 2021 laying down specific and temporary measures in view of the persistence of the COVID-19 crisis concerning the renewal or extension of certain certificates, licences and authorisations, the postponement of certain periodic checks and periodic training in certain areas of transport legislation and the extension of certain periods referred to in Regulation (EU) 2020/698 (Text with EEA relevance)',\n",
       "  'authors': ['Council of the European Union', 'European Parliament'],\n",
       "  'date': '2021-02-16',\n",
       "  'download': 'https://op.europa.eu/o/opportal-service/download-handler?identifier=04b1a86c-74b0-11eb-9ac9-01aa75ed71a1&format=PDF&language=en&productionSystem=cellar&documentIdentifier=04b1a86c-74b0-11eb-9ac9-01aa75ed71a1.0006'},\n",
       " {'name': 'DIRECTIVE OF THE EUROPEAN PARLIAMENT AND OF THE COUNCIL AMENDING DIRECTIVE 2014/65/EU AS REGARDS INFORMATION REQUIREMENTS, PRODUCT GOVERNANCE AND POSITION LIMITS, AND DIRECTIVES 2013/36/EU AND (EU) 2019/878 AS REGARDS THEIR APPLICATION TO INVESTMENT FIRMS, TO HELP THE RECOVERY FROM THE COVID-19 CRISIS',\n",
       "  'authors': ['Council of the European Union', 'European Parliament'],\n",
       "  'date': '2021-02-16',\n",
       "  'download': 'https://op.europa.eu/o/opportal-service/download-handler?identifier=34947457-7054-11eb-9ac9-01aa75ed71a1&format=PDF&language=en&productionSystem=cellar&documentIdentifier=34947457-7054-11eb-9ac9-01aa75ed71a1.0006'},\n",
       " {'name': 'REGULATION OF THE EUROPEAN PARLIAMENT AND OF THE COUNCIL AMENDING COUNCIL REGULATION (EEC) NO 95/93 AS REGARDS TEMPORARY RELIEF FROM THE SLOT UTILISATION RULES AT UNION AIRPORTS DUE TO THE COVID-19 CRISIS',\n",
       "  'authors': ['Council of the European Union', 'European Parliament'],\n",
       "  'date': '2021-02-16',\n",
       "  'download': 'https://op.europa.eu/o/opportal-service/download-handler?identifier=110b06ef-7111-11eb-9ac9-01aa75ed71a1&format=PDF&language=en&productionSystem=cellar&documentIdentifier=110b06ef-7111-11eb-9ac9-01aa75ed71a1.0006'},\n",
       " {'name': 'Joint Declaration of the Commission, the Council and the European Parliament on an instrument to deter and counteract coercive actions by third countries 2021/C 49/01',\n",
       "  'authors': ['Council of the European Union',\n",
       "   'European Commission',\n",
       "   'European Parliament'],\n",
       "  'date': '2021-02-12',\n",
       "  'download': 'https://op.europa.eu/o/opportal-service/download-handler?identifier=a80812e0-6cd4-11eb-aeb5-01aa75ed71a1&format=PDF&language=en&productionSystem=cellar&documentIdentifier=a80812e0-6cd4-11eb-aeb5-01aa75ed71a1.0006'},\n",
       " {'name': 'REGULATION OF THE EUROPEAN PARLIAMENT AND OF THE COUNCIL ESTABLISHING THE RECOVERY AND RESILIENCE FACILITY',\n",
       "  'authors': ['Council of the European Union', 'European Parliament'],\n",
       "  'date': '2021-02-12',\n",
       "  'download': 'https://op.europa.eu/o/opportal-service/download-handler?identifier=a5a75118-6f98-11eb-aeb5-01aa75ed71a1&format=PDF&language=en&productionSystem=cellar&documentIdentifier=a5a75118-6f98-11eb-aeb5-01aa75ed71a1.0006'},\n",
       " {'name': 'Regulation (EU) 2021/241 of the European Parliament and of the Council of 12 February 2021 establishing the Recovery and Resilience Facility',\n",
       "  'authors': ['Council of the European Union', 'European Parliament'],\n",
       "  'date': '2021-02-12',\n",
       "  'download': 'https://op.europa.eu/o/opportal-service/download-handler?identifier=66a2c066-71c5-11eb-9ac9-01aa75ed71a1&format=PDF&language=en&productionSystem=cellar&documentIdentifier=66a2c066-71c5-11eb-9ac9-01aa75ed71a1.0006'},\n",
       " {'name': 'Why is terminology your passion? The fifth collection of interviews with prominent terminologists',\n",
       "  'authors': ['European Parliament'],\n",
       "  'date': '2021-02-12',\n",
       "  'download': 'https://op.europa.eu/o/opportal-service/download-handler?identifier=f9ed916d-7007-11eb-9ac9-01aa75ed71a1&format=PDF&language=en&productionSystem=cellar&documentIdentifier=f9ed916d-7007-11eb-9ac9-01aa75ed71a1.0001'},\n",
       " {'name': 'Joint Declaration of the European Parliament, the Council and the Commission 2021/C 49/02',\n",
       "  'authors': ['Council of the European Union',\n",
       "   'European Commission',\n",
       "   'European Parliament'],\n",
       "  'date': '2021-02-12',\n",
       "  'download': 'https://op.europa.eu/o/opportal-service/download-handler?identifier=f38f1885-6cd4-11eb-aeb5-01aa75ed71a1&format=PDF&language=en&productionSystem=cellar&documentIdentifier=f38f1885-6cd4-11eb-aeb5-01aa75ed71a1.0006'},\n",
       " {'name': 'European Parliament legislative resolution of 11 February 2021 on the proposal for a regulation of the European Parliament and of the Council amending Regulation (EU) 2017/1129 as regards the EU Recovery prospectus and targeted adjustments for financial intermediaries to help the recovery from the COVID-19 pandemic (COM(2020)0281 – C9-0206/2020 – 2020/0155(COD))',\n",
       "  'authors': ['European Parliament'],\n",
       "  'date': '2021-02-11',\n",
       "  'download': 'NO_DOWNLOAD'},\n",
       " {'name': 'European Parliament legislative resolution of 11 February 2021 on the proposal for a directive of the European Parliament and of the Council amending Directive 2014/65/EU as regards information requirements, product governance and position limits to help the recovery from the COVID-19 pandemic (COM(2020)0280 – C9-0210/2020 – 2020/0152(COD))',\n",
       "  'authors': ['European Parliament'],\n",
       "  'date': '2021-02-11',\n",
       "  'download': 'NO_DOWNLOAD'},\n",
       " {'name': 'Corrigendum to Regulation (EU) 2016/429 of the European Parliament and of the Council of 9 March 2016 on transmissible animal diseases and amending and repealing certain acts in the area of animal health (‘Animal Health Law’) (Official Journal of the European Union L 84 of 31 March 2016)',\n",
       "  'authors': ['Council of the European Union', 'European Parliament'],\n",
       "  'date': '2021-02-11',\n",
       "  'download': 'https://op.europa.eu/o/opportal-service/download-handler?identifier=4e686ab8-6c3e-11eb-aeb5-01aa75ed71a1&format=PDF&language=en&productionSystem=cellar&documentIdentifier=4e686ab8-6c3e-11eb-aeb5-01aa75ed71a1.0006'},\n",
       " {'name': 'European Parliament legislative resolution of 11 February 2021 on the proposal for a regulation of the European Parliament and of the Council laying down specific and temporary measures in view of the COVID-19 outbreak concerning the renewal or extension of certain certificates, licences and authorisations and the postponement of certain periodic checks and periodic training in certain areas of transport legislation, for reference periods subsequent to those referred to in Regulation (EU) 2020/698 (COM(2021)0025 – C9-0004/2021 – 2021/0012(COD))',\n",
       "  'authors': ['European Parliament'],\n",
       "  'date': '2021-02-11',\n",
       "  'download': 'NO_DOWNLOAD'},\n",
       " {'name': 'European Parliament legislative resolution of 11 February 2021 on the proposal for a regulation of the European Parliament and of the Council amending Council Regulation (EEC) No 95/93 as regards temporary relief from the slot utilisation rules at Community airports due to the COVID-19 pandemic (COM(2020)0818 – C9-0420/2020 – 2020/0358(COD))',\n",
       "  'authors': ['European Parliament'],\n",
       "  'date': '2021-02-11',\n",
       "  'download': 'NO_DOWNLOAD'},\n",
       " {'name': 'REGULATION OF THE EUROPEAN PARLIAMENT AND OF THE COUNCIL AMENDING REGULATION (EU) NO 654/2014 CONCERNING THE EXERCISE OF THE UNION’S RIGHTS FOR THE APPLICATION AND ENFORCEMENT OF INTERNATIONAL TRADE RULES',\n",
       "  'authors': ['Council of the European Union', 'European Parliament'],\n",
       "  'date': '2021-02-10',\n",
       "  'download': 'https://op.europa.eu/o/opportal-service/download-handler?identifier=68456502-6d0e-11eb-aeb5-01aa75ed71a1&format=PDF&language=en&productionSystem=cellar&documentIdentifier=68456502-6d0e-11eb-aeb5-01aa75ed71a1.0007'},\n",
       " {'name': 'Regulation (EU) 2021/168 of the European Parliament and of the Council of 10 February 2021 amending Regulation (EU) 2016/1011 as regards the exemption of certain third-country spot foreign exchange benchmarks and the designation of replacements for certain benchmarks in cessation, and amending Regulation (EU) No 648/2012 (Text with EEA relevance)',\n",
       "  'authors': ['Council of the European Union', 'European Parliament'],\n",
       "  'date': '2021-02-10',\n",
       "  'download': 'https://op.europa.eu/o/opportal-service/download-handler?identifier=f38d91e4-6cd4-11eb-aeb5-01aa75ed71a1&format=PDF&language=en&productionSystem=cellar&documentIdentifier=f38d91e4-6cd4-11eb-aeb5-01aa75ed71a1.0006'},\n",
       " {'name': 'Regulation (EU) 2021/167 of the European Parliament and of the Council of 10 February 2021 amending Regulation (EU) No 654/2014 concerning the exercise of the Union’s rights for the application and enforcement of international trade rules',\n",
       "  'authors': ['Council of the European Union', 'European Parliament'],\n",
       "  'date': '2021-02-10',\n",
       "  'download': 'https://op.europa.eu/o/opportal-service/download-handler?identifier=a8113aa1-6cd4-11eb-aeb5-01aa75ed71a1&format=PDF&language=en&productionSystem=cellar&documentIdentifier=a8113aa1-6cd4-11eb-aeb5-01aa75ed71a1.0006'},\n",
       " {'name': 'REGULATION OF THE EUROPEAN PARLIAMENT AND OF THE COUNCIL AMENDING REGULATION (EU) NO 223/2014 AS REGARDS THE INTRODUCTION OF SPECIFIC MEASURES FOR ADDRESSING THE CRISIS ASSOCIATED WITH THE OUTBREAK OF COVID-19',\n",
       "  'authors': ['Council of the European Union', 'European Parliament'],\n",
       "  'date': '2021-02-10',\n",
       "  'download': 'https://op.europa.eu/o/opportal-service/download-handler?identifier=253002e8-6d1b-11eb-aeb5-01aa75ed71a1&format=PDF&language=en&productionSystem=cellar&documentIdentifier=253002e8-6d1b-11eb-aeb5-01aa75ed71a1.0007'},\n",
       " {'name': 'Regulation (EU) 2021/177 of the European Parliament and of the Council of 10 February 2021 amending Regulation (EU) No 223/2014 as regards the introduction of specific measures for addressing the crisis associated with the outbreak of COVID-19',\n",
       "  'authors': ['Council of the European Union', 'European Parliament'],\n",
       "  'date': '2021-02-10',\n",
       "  'download': 'https://op.europa.eu/o/opportal-service/download-handler?identifier=afa65c4a-6ff8-11eb-9ac9-01aa75ed71a1&format=PDF&language=en&productionSystem=cellar&documentIdentifier=afa65c4a-6ff8-11eb-9ac9-01aa75ed71a1.0006'},\n",
       " {'name': 'European Parliament legislative resolution of 10 February 2021 on the proposal for a regulation of the European Parliament and of the Council establishing a Recovery and Resilience Facility (COM(2020)0408 – C9-0150/2020 – 2020/0104(COD))',\n",
       "  'authors': ['European Parliament'],\n",
       "  'date': '2021-02-10',\n",
       "  'download': 'NO_DOWNLOAD'},\n",
       " {'name': 'Regulation (EU) 2021/240 of the European Parliament and of the Council of 10 February 2021 establishing a Technical Support Instrument',\n",
       "  'authors': ['Council of the European Union', 'European Parliament'],\n",
       "  'date': '2021-02-10',\n",
       "  'download': 'https://op.europa.eu/o/opportal-service/download-handler?identifier=191c8f65-71c5-11eb-9ac9-01aa75ed71a1&format=PDF&language=en&productionSystem=cellar&documentIdentifier=191c8f65-71c5-11eb-9ac9-01aa75ed71a1.0006'},\n",
       " {'name': 'REGULATION OF THE EUROPEAN PARLIAMENT AND OF THE COUNCIL AMENDING REGULATION (EU) 2016/1011 AS REGARDS THE EXEMPTION OF CERTAIN THIRD-COUNTRY SPOT FOREIGN EXCHANGE BENCHMARKS AND THE DESIGNATION OF REPLACEMENTS FOR CERTAIN BENCHMARKS IN CESSATION, AND AMENDING REGULATION (EU) NO 648/2012',\n",
       "  'authors': ['Council of the European Union', 'European Parliament'],\n",
       "  'date': '2021-02-10',\n",
       "  'download': 'https://op.europa.eu/o/opportal-service/download-handler?identifier=7109e828-6c50-11eb-aeb5-01aa75ed71a1&format=PDF&language=en&productionSystem=cellar&documentIdentifier=7109e828-6c50-11eb-aeb5-01aa75ed71a1.0006'},\n",
       " {'name': 'REGULATION OF THE EUROPEAN PARLIAMENT AND OF THE COUNCIL ESTABLISHING A TECHNICAL SUPPORT INSTRUMENT',\n",
       "  'authors': ['Council of the European Union', 'European Parliament'],\n",
       "  'date': '2021-02-10',\n",
       "  'download': 'https://op.europa.eu/o/opportal-service/download-handler?identifier=b4ef66d3-6d0e-11eb-aeb5-01aa75ed71a1&format=PDF&language=en&productionSystem=cellar&documentIdentifier=b4ef66d3-6d0e-11eb-aeb5-01aa75ed71a1.0007'},\n",
       " {'name': 'European Parliament legislative resolution of 9 February 2021 on the proposal for a directive of the European Parliament and of the Council on control of the acquisition and possession of weapons (codification) (COM(2020)0048 – C9-0017/2020 – 2020/0029(COD))',\n",
       "  'authors': ['European Parliament'],\n",
       "  'date': '2021-02-09',\n",
       "  'download': 'NO_DOWNLOAD'},\n",
       " {'name': 'European Parliament decision of 9 February 2021 on the proposal of the European Central Bank for the appointment of the Vice-Chair of the Supervisory Board of the European Central Bank (N9-0080/2020 – C9-0425/2020 – 2020/0910(NLE))',\n",
       "  'authors': ['European Parliament'],\n",
       "  'date': '2021-02-09',\n",
       "  'download': 'NO_DOWNLOAD'},\n",
       " {'name': 'REPORT on the proposal for a directive of the European Parliament and of the Council on control of the acquisition and possession of weapons (codification) (COM(2020)0048 - C9-0017/2020 - 2020/0029(COD)) Committee on Legal Affairs Rapporteur: Magdalena Adamowicz',\n",
       "  'authors': ['Committee on Legal Affairs',\n",
       "   'EP Committee',\n",
       "   'European Parliament'],\n",
       "  'date': '2021-01-29',\n",
       "  'download': 'NO_DOWNLOAD'},\n",
       " {'name': 'REPORT on the proposal of the European Central Bank for the appointment of the Vice-Chair of the Supervisory Board of the European Central Bank (N9-0080/2020 - C9-0425/2020 - 2020/0910(NLE)) Committee on Economic and Monetary Affairs Rapporteur: Irene Tinagli',\n",
       "  'authors': ['Committee on Economic and Monetary Affairs',\n",
       "   'EP Committee',\n",
       "   'European Parliament'],\n",
       "  'date': '2021-01-27',\n",
       "  'download': 'NO_DOWNLOAD'},\n",
       " {'name': 'European Parliament legislative resolution of 21 January 2021 on the proposal for a regulation of the European Parliament and of the Council amending Regulation (EU) No 223/2014 as regards the introduction of specific measures for addressing the COVID-19 crisis (COM(2020)0223 – C9-0151/2020 – 2020/0105(COD))',\n",
       "  'authors': ['European Parliament'],\n",
       "  'date': '2021-01-21',\n",
       "  'download': 'NO_DOWNLOAD'},\n",
       " {'name': 'EUROPEAN PARLIAMENT 2018-2019 SESSION Sitting of 11 March 2019 The Minutes of this session have been published in OJ C 420, 4.12.2020. 2019-2020 SESSION Sittings of 12 to 14 March 2019 The Minutes of this session have been published in OJ C 420, 4.12.2020. TEXTS ADOPTED',\n",
       "  'authors': ['European Parliament'],\n",
       "  'date': '2021-01-21',\n",
       "  'download': 'https://op.europa.eu/o/opportal-service/download-handler?identifier=4aeefc99-5b8b-11eb-b59f-01aa75ed71a1&format=PDF&language=en&productionSystem=cellar&documentIdentifier=4aeefc99-5b8b-11eb-b59f-01aa75ed71a1.0006'},\n",
       " {'name': 'Regulation (EU) 2021/56 of the European Parliament and of the Council of 20 January 2021 laying down management, conservation and control measures applicable in the Inter-American Tropical Tuna Convention area and amending Council Regulation (EC) No 520/2007',\n",
       "  'authors': ['Council of the European Union', 'European Parliament'],\n",
       "  'date': '2021-01-20',\n",
       "  'download': 'https://op.europa.eu/o/opportal-service/download-handler?identifier=b65b649b-5fa4-11eb-b487-01aa75ed71a1&format=PDF&language=en&productionSystem=cellar&documentIdentifier=b65b649b-5fa4-11eb-b487-01aa75ed71a1.0006'},\n",
       " {'name': 'REGULATION OF THE EUROPEAN PARLIAMENT AND OF THE COUNCIL LAYING DOWN MANAGEMENT, CONSERVATION AND CONTROL MEASURES APPLICABLE IN THE INTER-AMERICAN TROPICAL TUNA CONVENTION AREA AND AMENDING COUNCIL REGULATION (EC) No 520/2007',\n",
       "  'authors': ['Council of the European Union', 'European Parliament'],\n",
       "  'date': '2021-01-20',\n",
       "  'download': 'https://op.europa.eu/o/opportal-service/download-handler?identifier=88ed1ab4-5bcf-11eb-b59f-01aa75ed71a1&format=PDF&language=en&productionSystem=cellar&documentIdentifier=88ed1ab4-5bcf-11eb-b59f-01aa75ed71a1.0007'},\n",
       " {'name': 'Decision (EU) 2021/429 of the European Parliament of 20\\xa0January 2021 extending the term of office of the Committee of Inquiry to investigate alleged contraventions and maladministration in the application of Union law in relation to the protection of animals during transport within and outside the Union',\n",
       "  'authors': ['European Parliament'],\n",
       "  'date': '2021-01-20',\n",
       "  'download': 'https://op.europa.eu/o/opportal-service/download-handler?identifier=4836d4d0-82d5-11eb-9ac9-01aa75ed71a1&format=PDF&language=en&productionSystem=cellar&documentIdentifier=4836d4d0-82d5-11eb-9ac9-01aa75ed71a1.0006'},\n",
       " {'name': 'European Parliament legislative resolution of 19 January 2021 on the draft Council decision on the conclusion of the amendments to the Agreement for co-operation in dealing with pollution of the North Sea by oil and other harmful substances (Bonn Agreement) with regard to the extension of the scope of application of that Agreement and on the accession of the Kingdom of Spain to that Agreement (11487/2020 – C9-0351/2020 – 2020/0205(NLE))',\n",
       "  'authors': ['European Parliament'],\n",
       "  'date': '2021-01-19',\n",
       "  'download': 'NO_DOWNLOAD'},\n",
       " {'name': \"European Parliament legislative resolution of 19 January 2021 on the proposal for a regulation of the European Parliament and of the Council amending Regulation (EU) No 654/2014 of the European Parliament and of the Council concerning the exercise of the Union's rights for the application and enforcement of international trade rules (COM(2019)0623 – C9-0197/2019 – 2019/0273(COD))\",\n",
       "  'authors': ['European Parliament'],\n",
       "  'date': '2021-01-19',\n",
       "  'download': 'NO_DOWNLOAD'},\n",
       " {'name': 'European Parliament legislative resolution of 19 January 2021 on the proposal for a regulation of the European Parliament and of the Council establishing a Technical Support Instrument (COM(2020)0409 – C9-0148/2020 – 2020/0103(COD))',\n",
       "  'authors': ['European Parliament'],\n",
       "  'date': '2021-01-19',\n",
       "  'download': 'NO_DOWNLOAD'},\n",
       " {'name': 'European Parliament legislative resolution of 19 January 2021 on the proposal for a regulation of the European Parliament and of the Council amending Regulation (EU) 2016/1011 as regards the exemption of certain third country foreign exchange benchmarks and the designation of replacement benchmarks for certain benchmarks in cessation (COM(2020)0337 – C9-0209/2020 – 2020/0154(COD))',\n",
       "  'authors': ['European Parliament'],\n",
       "  'date': '2021-01-19',\n",
       "  'download': 'NO_DOWNLOAD'},\n",
       " {'name': 'Corrigendum to Joint Conclusions of the European Parliament, the Council of the European Union and the European Commission on Policy Objectives and Priorities for 2020-2024 (Official Journal of the European Union C 451I of 29 December 2020) 2021/C 15 I/02',\n",
       "  'authors': ['Council of the European Union',\n",
       "   'European Commission',\n",
       "   'European Parliament'],\n",
       "  'date': '2021-01-14',\n",
       "  'download': 'https://op.europa.eu/o/opportal-service/download-handler?identifier=fb1ebf20-560a-11eb-b59f-01aa75ed71a1&format=PDF&language=en&productionSystem=cellar&documentIdentifier=fb1ebf20-560a-11eb-b59f-01aa75ed71a1.0006'},\n",
       " {'name': 'Corrigendum to Joint Declaration of the European Parliament, the Council of the European Union and the European Commission – EU Legislative Priorities for 2021 (Official Journal of the European Union C 451 I of 29 December 2020) 2021/C 15 I/01',\n",
       "  'authors': ['Council of the European Union',\n",
       "   'European Commission',\n",
       "   'European Parliament'],\n",
       "  'date': '2021-01-14',\n",
       "  'download': 'https://op.europa.eu/o/opportal-service/download-handler?identifier=b3b1877d-560a-11eb-b59f-01aa75ed71a1&format=PDF&language=en&productionSystem=cellar&documentIdentifier=b3b1877d-560a-11eb-b59f-01aa75ed71a1.0006'},\n",
       " {'name': 'Corrigendum to Regulation (EU) 2018/848 of the European Parliament and of the Council of 30 May 2018 on organic production and labelling of organic products and repealing Council Regulation (EC) No 834/2007 (Official Journal of the European Union L 150 of 14 June 2018)',\n",
       "  'authors': ['Council of the European Union', 'European Parliament'],\n",
       "  'date': '2021-01-11',\n",
       "  'download': 'https://op.europa.eu/o/opportal-service/download-handler?identifier=e8437834-53af-11eb-b59f-01aa75ed71a1&format=PDF&language=en&productionSystem=cellar&documentIdentifier=e8437834-53af-11eb-b59f-01aa75ed71a1.0006'}]"
      ]
     },
     "execution_count": 10,
     "metadata": {},
     "output_type": "execute_result"
    }
   ],
   "source": [
    "publications_json = []\n",
    "for p in publications:\n",
    "    \n",
    "    if not len(p[0]):\n",
    "        print(p)\n",
    "    \n",
    "    p_json = {\n",
    "        \"name\": p[0][0] if len(p[0]) else \"Why is terminology your passion? The fifth collection of interviews with prominent terminologists\",\n",
    "        #\"name\": p[0][0],\n",
    "        \"authors\": p[1],\n",
    "        \"date\": p[2][0],\n",
    "        \"download\": p[3]\n",
    "    }\n",
    "    \n",
    "    publications_json.append(p_json)\n",
    "\n",
    "publications_json"
   ]
  },
  {
   "cell_type": "code",
   "execution_count": 12,
   "metadata": {},
   "outputs": [],
   "source": [
    "import json\n",
    "with open(\"publications.json\", \"w\", encoding=\"utf-8\") as outf:\n",
    "    json.dump(publications_json, outf)"
   ]
  },
  {
   "cell_type": "code",
   "execution_count": null,
   "metadata": {},
   "outputs": [],
   "source": []
  }
 ],
 "metadata": {
  "kernelspec": {
   "display_name": "Python 3",
   "language": "python",
   "name": "python3"
  },
  "language_info": {
   "codemirror_mode": {
    "name": "ipython",
    "version": 3
   },
   "file_extension": ".py",
   "mimetype": "text/x-python",
   "name": "python",
   "nbconvert_exporter": "python",
   "pygments_lexer": "ipython3",
   "version": "3.7.4"
  }
 },
 "nbformat": 4,
 "nbformat_minor": 2
}
